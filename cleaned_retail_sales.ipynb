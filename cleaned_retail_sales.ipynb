{
 "cells": [
  {
   "cell_type": "code",
   "execution_count": 327,
   "id": "7d7d06a0-7df6-4275-bffb-e88c540debf8",
   "metadata": {},
   "outputs": [],
   "source": [
    "# Step 1: Import necessary libraries\n",
    "import pandas as pd\n",
    "from sklearn.preprocessing import LabelEncoder, OneHotEncoder, MinMaxScaler\n"
   ]
  },
  {
   "cell_type": "code",
   "execution_count": 328,
   "id": "203f89cc-6ba3-4195-9de8-5e0733f498f9",
   "metadata": {},
   "outputs": [
    {
     "name": "stdout",
     "output_type": "stream",
     "text": [
      "Original Dataset:\n",
      "   Transaction_ID  Customer_ID                 Name                Email  \\\n",
      "0       8691788.0      37249.0  Michelle Harrington    Ebony39@gmail.com   \n",
      "1       2174773.0      69749.0          Kelsey Hill     Mark36@gmail.com   \n",
      "2       6679610.0      30192.0         Scott Jensen    Shane85@gmail.com   \n",
      "3       7232460.0      62101.0        Joseph Miller     Mary34@gmail.com   \n",
      "4       4983775.0      27901.0        Debra Coleman  Charles30@gmail.com   \n",
      "\n",
      "          Phone                      Address        City            State  \\\n",
      "0  1.414787e+09            3959 Amanda Burgs    Dortmund           Berlin   \n",
      "1  6.852900e+09           82072 Dawn Centers  Nottingham          England   \n",
      "2  8.362160e+09            4133 Young Canyon     Geelong  New South Wales   \n",
      "3  2.776752e+09  8148 Thomas Creek Suite 100    Edmonton          Ontario   \n",
      "4  9.098268e+09    5813 Lori Ports Suite 269     Bristol          England   \n",
      "\n",
      "   Zipcode    Country  ...  Total_Amount Product_Category  Product_Brand  \\\n",
      "0  77985.0    Germany  ...    324.086270         Clothing           Nike   \n",
      "1  99071.0         UK  ...    806.707815      Electronics        Samsung   \n",
      "2  75929.0  Australia  ...   1063.432799            Books  Penguin Books   \n",
      "3  88420.0     Canada  ...   2466.854021       Home Decor     Home Depot   \n",
      "4  48704.0         UK  ...    248.553049          Grocery         Nestle   \n",
      "\n",
      "  Product_Type   Feedback  Shipping_Method Payment_Method Order_Status  \\\n",
      "0       Shorts  Excellent         Same-Day     Debit Card      Shipped   \n",
      "1       Tablet  Excellent         Standard    Credit Card   Processing   \n",
      "2   Children's    Average         Same-Day    Credit Card   Processing   \n",
      "3        Tools  Excellent         Standard         PayPal   Processing   \n",
      "4    Chocolate        Bad         Standard           Cash      Shipped   \n",
      "\n",
      "   Ratings           products  \n",
      "0      5.0     Cycling shorts  \n",
      "1      4.0         Lenovo Tab  \n",
      "2      2.0   Sports equipment  \n",
      "3      4.0      Utility knife  \n",
      "4      1.0  Chocolate cookies  \n",
      "\n",
      "[5 rows x 30 columns]\n"
     ]
    }
   ],
   "source": [
    "\n",
    "# Step 2: Load the dataset\n",
    "file_path = \"C:/Users/lenovo/OneDrive/Desktop/slutheor/task2/new_retail_data.csv\"  # Update this path if needed\n",
    "df = pd.read_csv(file_path)\n",
    "\n",
    "# Display first few rows\n",
    "print(\"Original Dataset:\")\n",
    "print(df.head())\n"
   ]
  },
  {
   "cell_type": "code",
   "execution_count": 329,
   "id": "f4a984c7-b983-4f3b-8df9-8816663170dd",
   "metadata": {},
   "outputs": [
    {
     "name": "stderr",
     "output_type": "stream",
     "text": [
      "C:\\Users\\lenovo\\AppData\\Local\\Temp\\ipykernel_18352\\1623045438.py:2: FutureWarning: DataFrame.fillna with 'method' is deprecated and will raise in a future version. Use obj.ffill() or obj.bfill() instead.\n",
      "  df.fillna(method='ffill', inplace=True)  # Forward fill missing values\n"
     ]
    }
   ],
   "source": [
    "\n",
    "# Step 3: Handle missing values\n",
    "df.fillna(method='ffill', inplace=True)  # Forward fill missing values\n"
   ]
  },
  {
   "cell_type": "code",
   "execution_count": 330,
   "id": "1dfffc4c-b6a5-4cce-bf8f-ffec97170354",
   "metadata": {},
   "outputs": [
    {
     "name": "stdout",
     "output_type": "stream",
     "text": [
      "\n",
      "Step 3: After Handling Missing Values\n",
      "Transaction_ID      0\n",
      "Customer_ID         0\n",
      "Name                0\n",
      "Email               0\n",
      "Phone               0\n",
      "Address             0\n",
      "City                0\n",
      "State               0\n",
      "Zipcode             0\n",
      "Country             0\n",
      "Age                 0\n",
      "Gender              0\n",
      "Income              0\n",
      "Customer_Segment    0\n",
      "Date                0\n",
      "Year                0\n",
      "Month               0\n",
      "Time                0\n",
      "Total_Purchases     0\n",
      "Amount              0\n",
      "Total_Amount        0\n",
      "Product_Category    0\n",
      "Product_Brand       0\n",
      "Product_Type        0\n",
      "Feedback            0\n",
      "Shipping_Method     0\n",
      "Payment_Method      0\n",
      "Order_Status        0\n",
      "Ratings             0\n",
      "products            0\n",
      "dtype: int64\n"
     ]
    }
   ],
   "source": [
    "print(\"\\nStep 3: After Handling Missing Values\")\n",
    "print(df.isnull().sum())  # Show count of missing values per column\n"
   ]
  },
  {
   "cell_type": "code",
   "execution_count": 331,
   "id": "a590e7b7-fc94-449a-aac3-cadd2130ced3",
   "metadata": {},
   "outputs": [
    {
     "data": {
      "text/plain": [
       "3"
      ]
     },
     "execution_count": 331,
     "metadata": {},
     "output_type": "execute_result"
    }
   ],
   "source": [
    "df.duplicated().sum()"
   ]
  },
  {
   "cell_type": "code",
   "execution_count": 332,
   "id": "0ca13a1d-7831-4b12-9ecb-7f1b36c6cb00",
   "metadata": {},
   "outputs": [
    {
     "name": "stdout",
     "output_type": "stream",
     "text": [
      "\n",
      "Step 4: After Removing Duplicates\n",
      "   Transaction_ID  Customer_ID                 Name                Email  \\\n",
      "0       8691788.0      37249.0  Michelle Harrington    Ebony39@gmail.com   \n",
      "1       2174773.0      69749.0          Kelsey Hill     Mark36@gmail.com   \n",
      "2       6679610.0      30192.0         Scott Jensen    Shane85@gmail.com   \n",
      "3       7232460.0      62101.0        Joseph Miller     Mary34@gmail.com   \n",
      "4       4983775.0      27901.0        Debra Coleman  Charles30@gmail.com   \n",
      "\n",
      "          Phone                      Address        City            State  \\\n",
      "0  1.414787e+09            3959 Amanda Burgs    Dortmund           Berlin   \n",
      "1  6.852900e+09           82072 Dawn Centers  Nottingham          England   \n",
      "2  8.362160e+09            4133 Young Canyon     Geelong  New South Wales   \n",
      "3  2.776752e+09  8148 Thomas Creek Suite 100    Edmonton          Ontario   \n",
      "4  9.098268e+09    5813 Lori Ports Suite 269     Bristol          England   \n",
      "\n",
      "   Zipcode    Country  ...  Total_Amount Product_Category  Product_Brand  \\\n",
      "0  77985.0    Germany  ...    324.086270         Clothing           Nike   \n",
      "1  99071.0         UK  ...    806.707815      Electronics        Samsung   \n",
      "2  75929.0  Australia  ...   1063.432799            Books  Penguin Books   \n",
      "3  88420.0     Canada  ...   2466.854021       Home Decor     Home Depot   \n",
      "4  48704.0         UK  ...    248.553049          Grocery         Nestle   \n",
      "\n",
      "  Product_Type   Feedback  Shipping_Method Payment_Method Order_Status  \\\n",
      "0       Shorts  Excellent         Same-Day     Debit Card      Shipped   \n",
      "1       Tablet  Excellent         Standard    Credit Card   Processing   \n",
      "2   Children's    Average         Same-Day    Credit Card   Processing   \n",
      "3        Tools  Excellent         Standard         PayPal   Processing   \n",
      "4    Chocolate        Bad         Standard           Cash      Shipped   \n",
      "\n",
      "   Ratings           products  \n",
      "0      5.0     Cycling shorts  \n",
      "1      4.0         Lenovo Tab  \n",
      "2      2.0   Sports equipment  \n",
      "3      4.0      Utility knife  \n",
      "4      1.0  Chocolate cookies  \n",
      "\n",
      "[5 rows x 30 columns]\n"
     ]
    }
   ],
   "source": [
    "\n",
    "# Step 4: Remove duplicate rows\n",
    "df.drop_duplicates(inplace=True)\n",
    "\n",
    "print(\"\\nStep 4: After Removing Duplicates\")\n",
    "print(df.head())\n"
   ]
  },
  {
   "cell_type": "code",
   "execution_count": 333,
   "id": "27b0dc74-6958-4fda-9b4a-f6355467be05",
   "metadata": {},
   "outputs": [
    {
     "name": "stdout",
     "output_type": "stream",
     "text": [
      "\n",
      "Step 5: After Label Encoding 'Payment_Method' and 'Income'\n",
      "  Payment_Method Income\n",
      "0     Debit Card    Low\n",
      "1    Credit Card    Low\n",
      "2    Credit Card    Low\n",
      "3         PayPal   High\n",
      "4           Cash    Low\n"
     ]
    }
   ],
   "source": [
    "\n",
    "# Step 5: Convert categorical columns to numerical\n",
    "label_encoder = LabelEncoder()\n",
    "\n",
    "# Example: Encoding 'Payment_Method' column\n",
    "df['Payment_Method_Encoded'] = label_encoder.fit_transform(df['Payment_Method'])\n",
    "\n",
    "# Encoding 'Income' column (Low, Medium, High -> 0, 1, 2)\n",
    "df['Income_Encoded'] = label_encoder.fit_transform(df['Income'])\n",
    "\n",
    "\n",
    "print(\"\\nStep 5: After Label Encoding 'Payment_Method' and 'Income'\")\n",
    "print(df[['Payment_Method', 'Income']].head())\n"
   ]
  },
  {
   "cell_type": "code",
   "execution_count": 334,
   "id": "00d7f275-fd1c-4b27-ba4a-81fb76af5257",
   "metadata": {},
   "outputs": [
    {
     "name": "stdout",
     "output_type": "stream",
     "text": [
      "  Payment_Method  Payment_Method_Encoded\n",
      "0     Debit Card                       2\n",
      "1    Credit Card                       1\n",
      "3         PayPal                       3\n",
      "4           Cash                       0\n"
     ]
    }
   ],
   "source": [
    "\n",
    "# Initialize LabelEncoder\n",
    "label_encoder = LabelEncoder()\n",
    "\n",
    "# Fit and transform\n",
    "df['Payment_Method_Encoded'] = label_encoder.fit_transform(df['Payment_Method'])\n",
    "\n",
    "# Show original category alongside encoded value\n",
    "print(df[['Payment_Method', 'Payment_Method_Encoded']].drop_duplicates())\n"
   ]
  },
  {
   "cell_type": "code",
   "execution_count": 335,
   "id": "5fd4b890-0fff-4da8-91ad-0f72d2a04653",
   "metadata": {},
   "outputs": [
    {
     "name": "stdout",
     "output_type": "stream",
     "text": [
      "\n",
      "Step 5 (Part 2): After One-Hot Encoding 'Product_Category'\n",
      "   Transaction_ID  Customer_ID                 Name                Email  \\\n",
      "0       8691788.0      37249.0  Michelle Harrington    Ebony39@gmail.com   \n",
      "1       2174773.0      69749.0          Kelsey Hill     Mark36@gmail.com   \n",
      "2       6679610.0      30192.0         Scott Jensen    Shane85@gmail.com   \n",
      "3       7232460.0      62101.0        Joseph Miller     Mary34@gmail.com   \n",
      "4       4983775.0      27901.0        Debra Coleman  Charles30@gmail.com   \n",
      "\n",
      "          Phone                      Address        City            State  \\\n",
      "0  1.414787e+09            3959 Amanda Burgs    Dortmund           Berlin   \n",
      "1  6.852900e+09           82072 Dawn Centers  Nottingham          England   \n",
      "2  8.362160e+09            4133 Young Canyon     Geelong  New South Wales   \n",
      "3  2.776752e+09  8148 Thomas Creek Suite 100    Edmonton          Ontario   \n",
      "4  9.098268e+09    5813 Lori Ports Suite 269     Bristol          England   \n",
      "\n",
      "   Zipcode    Country  ...  Payment_Method Order_Status Ratings  \\\n",
      "0  77985.0    Germany  ...      Debit Card      Shipped     5.0   \n",
      "1  99071.0         UK  ...     Credit Card   Processing     4.0   \n",
      "2  75929.0  Australia  ...     Credit Card   Processing     2.0   \n",
      "3  88420.0     Canada  ...          PayPal   Processing     4.0   \n",
      "4  48704.0         UK  ...            Cash      Shipped     1.0   \n",
      "\n",
      "            products Payment_Method_Encoded  Income_Encoded  \\\n",
      "0     Cycling shorts                      2               1   \n",
      "1         Lenovo Tab                      1               1   \n",
      "2   Sports equipment                      1               1   \n",
      "3      Utility knife                      3               0   \n",
      "4  Chocolate cookies                      0               1   \n",
      "\n",
      "  Product_Category_Clothing Product_Category_Electronics  \\\n",
      "0                      True                        False   \n",
      "1                     False                         True   \n",
      "2                     False                        False   \n",
      "3                     False                        False   \n",
      "4                     False                        False   \n",
      "\n",
      "   Product_Category_Grocery  Product_Category_Home Decor  \n",
      "0                     False                        False  \n",
      "1                     False                        False  \n",
      "2                     False                        False  \n",
      "3                     False                         True  \n",
      "4                      True                        False  \n",
      "\n",
      "[5 rows x 35 columns]\n"
     ]
    }
   ],
   "source": [
    "\n",
    "# One-Hot Encoding for 'Product_Category'\n",
    "df = pd.get_dummies(df, columns=['Product_Category'], drop_first=True)\n",
    "\n",
    "print(\"\\nStep 5 (Part 2): After One-Hot Encoding 'Product_Category'\")\n",
    "print(df.head())\n"
   ]
  },
  {
   "cell_type": "code",
   "execution_count": 336,
   "id": "d1966800-f750-4847-9dd7-bb64d0d2c285",
   "metadata": {},
   "outputs": [
    {
     "name": "stdout",
     "output_type": "stream",
     "text": [
      "\n",
      "Step 6: After Normalizing Numeric Columns\n",
      "        Age  Total_Purchases    Amount  Total_Amount  Ratings\n",
      "0  0.057692         0.222222  0.200059      0.062947     1.00\n",
      "1  0.019231         0.111111  0.802766      0.159672     0.75\n",
      "2  0.576923         0.222222  0.703018      0.211124     0.25\n",
      "3  0.730769         0.666667  0.698794      0.492392     0.75\n",
      "4  0.076923         0.111111  0.233218      0.047809     0.00\n"
     ]
    }
   ],
   "source": [
    "\n",
    "# Step 6: Normalize numerical features (Scale Age, Amount, etc.)\n",
    "scaler = MinMaxScaler()\n",
    "numeric_columns = ['Age', 'Total_Purchases', 'Amount', 'Total_Amount', 'Ratings']\n",
    "\n",
    "df[numeric_columns] = scaler.fit_transform(df[numeric_columns])\n",
    "\n",
    "print(\"\\nStep 6: After Normalizing Numeric Columns\")\n",
    "print(df[numeric_columns].head())\n"
   ]
  },
  {
   "cell_type": "code",
   "execution_count": 337,
   "id": "3c7ac485-139a-44ba-af9e-41d2f3288981",
   "metadata": {},
   "outputs": [],
   "source": [
    "\n",
    "# Step 7: Save the cleaned dataset\n",
    "cleaned_file_path = \"cleaned_retail_data.csv\"\n",
    "df.to_csv(cleaned_file_path, index=False)\n"
   ]
  },
  {
   "cell_type": "code",
   "execution_count": 338,
   "id": "fd8288e2-bf5e-43a7-9501-bae774dca70a",
   "metadata": {},
   "outputs": [
    {
     "name": "stdout",
     "output_type": "stream",
     "text": [
      "\n",
      "Data Cleaning Completed! Saved as 'cleaned_retail_data.csv'\n",
      "\n",
      "Final Cleaned Data Preview:\n",
      "   Transaction_ID  Customer_ID                 Name                Email  \\\n",
      "0       8691788.0      37249.0  Michelle Harrington    Ebony39@gmail.com   \n",
      "1       2174773.0      69749.0          Kelsey Hill     Mark36@gmail.com   \n",
      "2       6679610.0      30192.0         Scott Jensen    Shane85@gmail.com   \n",
      "3       7232460.0      62101.0        Joseph Miller     Mary34@gmail.com   \n",
      "4       4983775.0      27901.0        Debra Coleman  Charles30@gmail.com   \n",
      "\n",
      "          Phone                      Address        City            State  \\\n",
      "0  1.414787e+09            3959 Amanda Burgs    Dortmund           Berlin   \n",
      "1  6.852900e+09           82072 Dawn Centers  Nottingham          England   \n",
      "2  8.362160e+09            4133 Young Canyon     Geelong  New South Wales   \n",
      "3  2.776752e+09  8148 Thomas Creek Suite 100    Edmonton          Ontario   \n",
      "4  9.098268e+09    5813 Lori Ports Suite 269     Bristol          England   \n",
      "\n",
      "   Zipcode    Country  ...  Payment_Method Order_Status Ratings  \\\n",
      "0  77985.0    Germany  ...      Debit Card      Shipped    1.00   \n",
      "1  99071.0         UK  ...     Credit Card   Processing    0.75   \n",
      "2  75929.0  Australia  ...     Credit Card   Processing    0.25   \n",
      "3  88420.0     Canada  ...          PayPal   Processing    0.75   \n",
      "4  48704.0         UK  ...            Cash      Shipped    0.00   \n",
      "\n",
      "            products Payment_Method_Encoded  Income_Encoded  \\\n",
      "0     Cycling shorts                      2               1   \n",
      "1         Lenovo Tab                      1               1   \n",
      "2   Sports equipment                      1               1   \n",
      "3      Utility knife                      3               0   \n",
      "4  Chocolate cookies                      0               1   \n",
      "\n",
      "  Product_Category_Clothing Product_Category_Electronics  \\\n",
      "0                      True                        False   \n",
      "1                     False                         True   \n",
      "2                     False                        False   \n",
      "3                     False                        False   \n",
      "4                     False                        False   \n",
      "\n",
      "   Product_Category_Grocery  Product_Category_Home Decor  \n",
      "0                     False                        False  \n",
      "1                     False                        False  \n",
      "2                     False                        False  \n",
      "3                     False                         True  \n",
      "4                      True                        False  \n",
      "\n",
      "[5 rows x 35 columns]\n"
     ]
    }
   ],
   "source": [
    "\n",
    "print(\"\\nData Cleaning Completed! Saved as 'cleaned_retail_data.csv'\")\n",
    "print(\"\\nFinal Cleaned Data Preview:\")\n",
    "print(df.head())\n"
   ]
  },
  {
   "cell_type": "code",
   "execution_count": null,
   "id": "c9e03f99-4b6b-43ba-837a-54e4ff2cf8b1",
   "metadata": {},
   "outputs": [],
   "source": []
  },
  {
   "cell_type": "code",
   "execution_count": null,
   "id": "649ea3f5-e164-4117-8e26-8ee52187ce6c",
   "metadata": {},
   "outputs": [],
   "source": []
  },
  {
   "cell_type": "code",
   "execution_count": null,
   "id": "f03eb605-fd86-4512-b641-caf130151ebf",
   "metadata": {},
   "outputs": [],
   "source": []
  }
 ],
 "metadata": {
  "kernelspec": {
   "display_name": "Python 3 (ipykernel)",
   "language": "python",
   "name": "python3"
  },
  "language_info": {
   "codemirror_mode": {
    "name": "ipython",
    "version": 3
   },
   "file_extension": ".py",
   "mimetype": "text/x-python",
   "name": "python",
   "nbconvert_exporter": "python",
   "pygments_lexer": "ipython3",
   "version": "3.12.7"
  }
 },
 "nbformat": 4,
 "nbformat_minor": 5
}
